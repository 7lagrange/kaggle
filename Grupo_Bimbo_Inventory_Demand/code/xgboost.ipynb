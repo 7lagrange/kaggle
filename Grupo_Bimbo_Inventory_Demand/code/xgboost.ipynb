{
 "cells": [
  {
   "cell_type": "raw",
   "metadata": {},
   "source": [
    "\"\"\"\n",
    "@author: Hongjian Qi\n",
    "\"\"\""
   ]
  },
  {
   "cell_type": "code",
   "execution_count": 1,
   "metadata": {
    "collapsed": false
   },
   "outputs": [],
   "source": [
    "from itertools import chain\n",
    "\n",
    "\n",
    "import numpy as np\n",
    "import pandas as pd\n",
    "import xgboost as xgb\n",
    "from sklearn import preprocessing\n",
    "from sklearn.cross_validation import train_test_split\n",
    "\n",
    "from utils import *"
   ]
  },
  {
   "cell_type": "code",
   "execution_count": 2,
   "metadata": {
    "collapsed": true
   },
   "outputs": [],
   "source": [
    "train_file = \"../data/train.csv\"\n",
    "test_file = \"../data/test.csv\"\n",
    "sample_submission = \"../data/sample_submission.csv\"\n",
    "submission_filename = \"test_submission.csv\"\n",
    "\n",
    "xgb_params = {\n",
    "    'seed': 0,\n",
    "    'colsample_bytree': 0.8,\n",
    "    'silent': 0,\n",
    "    'subsample': .85,\n",
    "    'eta': 0.0275,\n",
    "    'objective': 'binary:logitraw',\n",
    "    'num_parallel_tree': 7,\n",
    "    'max_depth': 5,\n",
    "    'nthread': 22,\n",
    "    'eval_metric': 'auc',\n",
    "}\n"
   ]
  },
  {
   "cell_type": "code",
   "execution_count": 3,
   "metadata": {
    "collapsed": false
   },
   "outputs": [],
   "source": [
    "import pandas as pd\n",
    "import numpy as np\n",
    "import scipy as sc\n",
    "from sklearn import preprocessing\n",
    "\n",
    "train_=pd.read_csv('../data/train.csv',delimiter=',')\n",
    "test_=pd.read_csv('../data/test.csv',delimiter=',')\n",
    "pd.options.mode.chained_assignment = None\n",
    "Id_ts=test_['ID']\n",
    "test_.drop('ID',axis=1,inplace=True)\n",
    "\n",
    "\n",
    "clean(train_,test_)\n",
    "Target=train_['Target']\n",
    "train_.drop('OutcomeSubtype',axis=1,inplace=True)\n",
    "train_.drop('Aggressive',axis=1,inplace=True)\n",
    "train_.drop('At Vet',axis=1,inplace=True)\n",
    "train_.drop('Barn',axis=1,inplace=True)\n",
    "train_.drop('Behavior',axis=1,inplace=True)\n",
    "train_.drop('Court/Investigation',axis=1,inplace=True)\n",
    "train_.drop('Enroute',axis=1,inplace=True)\n",
    "train_.drop('Foster',axis=1,inplace=True)\n",
    "train_.drop('In Foster',axis=1,inplace=True)\n",
    "train_.drop('In Kennel',axis=1,inplace=True)\n",
    "train_.drop('In Surgery',axis=1,inplace=True)\n",
    "train_.drop('Medical',axis=1,inplace=True)\n",
    "train_.drop('Offsite',axis=1,inplace=True)\n",
    "train_.drop('Partner',axis=1,inplace=True)\n",
    "train_.drop('Rabies Risk',axis=1,inplace=True)\n",
    "train_.drop('SCRP',axis=1,inplace=True)\n",
    "train_.drop('Suffering',axis=1,inplace=True)\n",
    "train_.drop('OutcomeType',axis=1,inplace=True)\n",
    "train_.drop('Target',axis=1,inplace=True)\n",
    "\n",
    "train_2 = clean_v2(train_)\n",
    "train_2 = pd.get_dummies(train_2, columns=['Groups','App','Family','Hairless','Hypoa','Kids','Smart','Type2','DG',\n",
    "                                           'Type4','dayofweek','Holidays','Season','am_pm','Unicolor','month','day',\n",
    "                                           'Top_Mix','AgeuponOutcome_cat','sprayed','Type_sex','SexuponOutcome_cat',\n",
    "                                           'AnimalType_cat'])\n",
    "\n",
    "test_2=clean_v2(test_)\n",
    "test_2 = pd.get_dummies(test_2, columns=['Groups','App','Family','Hairless','Hypoa','Kids','Smart','Type2','DG',\n",
    "                                         'Type4','dayofweek','Holidays','Season','am_pm','Unicolor','month','day',\n",
    "                                         'Top_Mix','AgeuponOutcome_cat','sprayed','Type_sex','SexuponOutcome_cat',\n",
    "                                         'AnimalType_cat'])\n",
    "\n"
   ]
  },
  {
   "cell_type": "code",
   "execution_count": 10,
   "metadata": {
    "collapsed": false
   },
   "outputs": [
    {
     "name": "stdout",
     "output_type": "stream",
     "text": [
      "(38185, 172)\n",
      "(26729, 154)\n"
     ]
    }
   ],
   "source": [
    "\n",
    "train_2['version']='Train'\n",
    "test_2['version']='Test'\n",
    "\n",
    "result = train_2.append(test_2, ignore_index=True)\n",
    "\n",
    "binarize = result\n",
    "\n",
    "binarize_train=binarize[binarize['version']=='Train']\n",
    "binarize_test=binarize[binarize['version']=='Test']\n",
    "print(binarize.shape)\n",
    "\n",
    "train_select=pd.DataFrame(binarize_train.select_dtypes(include=['float64','int64','int32','float32']))\n",
    "test_select=pd.DataFrame(binarize_test.select_dtypes(include=['float64','int64','int32','float32']))\n",
    "\n",
    "print(train_select.shape)\n",
    "\n",
    "train_select=train_select.fillna(-9999)\n",
    "test_select=test_select.fillna(-9999)\n",
    "\n",
    "x_train, x_test, y_train, y_test = train_test_split(train_select,Target,test_size=0.30, \n",
    "                                                    random_state=30,stratify=Target)\n",
    "\n",
    "dtrain = xgb.DMatrix(x_train,y_train,missing = -9999)\n",
    "dtest = xgb.DMatrix(x_test,y_test,missing = -9999)\n",
    "\n",
    "param = {'max_depth':7, 'eta':0.1, 'silent':1, 'objective':'multi:softprob','num_class':5,\n",
    "        'eval_metric':'mlogloss','subsample':0.75,'colsample_bytree':0.85}\n",
    "#watchlist  = [(dtest,'eval'), (dtrain,'train')]\n",
    "num_round = 125\n",
    "\n",
    "bst1 = xgb.train(param, dtrain, num_round)\n"
   ]
  },
  {
   "cell_type": "code",
   "execution_count": 12,
   "metadata": {
    "collapsed": false
   },
   "outputs": [],
   "source": [
    "ypred_submit = bst1.predict(dtest)\n",
    "ypred_submit = pd.DataFrame(ypred_submit)\n",
    "\n",
    "submission = pd.DataFrame()\n",
    "submission[\"id\"] = Id_ts.values\n",
    "submission[\"Adoption\"]= ypred_submit[2]\n",
    "submission[\"Died\"]= ypred_submit[4]\n",
    "submission[\"Euthanasia\"]= ypred_submit[1]\n",
    "submission[\"Return_to_owner\"]= ypred_submit[0]\n",
    "submission[\"Transfer\"]= ypred_submit[3]\n",
    "\n",
    "submission.to_csv(\"sub.csv\",index=False)"
   ]
  },
  {
   "cell_type": "code",
   "execution_count": null,
   "metadata": {
    "collapsed": true
   },
   "outputs": [],
   "source": []
  }
 ],
 "metadata": {
  "hide_input": false,
  "kernelspec": {
   "display_name": "Python 2",
   "language": "python",
   "name": "python2"
  },
  "language_info": {
   "codemirror_mode": {
    "name": "ipython",
    "version": 2
   },
   "file_extension": ".py",
   "mimetype": "text/x-python",
   "name": "python",
   "nbconvert_exporter": "python",
   "pygments_lexer": "ipython2",
   "version": "2.7.11"
  },
  "toc": {
   "toc_cell": false,
   "toc_number_sections": true,
   "toc_threshold": 6,
   "toc_window_display": false
  }
 },
 "nbformat": 4,
 "nbformat_minor": 0
}
