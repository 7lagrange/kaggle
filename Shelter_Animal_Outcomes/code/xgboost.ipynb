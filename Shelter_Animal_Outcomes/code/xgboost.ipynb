{
 "cells": [
  {
   "cell_type": "raw",
   "metadata": {},
   "source": [
    "\"\"\"\n",
    "@author: Hongjian Qi\n",
    "\"\"\""
   ]
  },
  {
   "cell_type": "code",
   "execution_count": 2,
   "metadata": {
    "collapsed": false
   },
   "outputs": [],
   "source": [
    "from itertools import chain\n",
    "from sklearn import preprocessing\n",
    "\n",
    "import numpy as np\n",
    "import pandas as pd\n",
    "import xgboost as xgb"
   ]
  },
  {
   "cell_type": "code",
   "execution_count": 3,
   "metadata": {
    "collapsed": true
   },
   "outputs": [],
   "source": [
    "train_file = \"../data/train.csv\"\n",
    "test_file = \"../data/test.csv\"\n",
    "sample_submission = \"../data/sample_submission.csv\"\n",
    "submission_filename = \"god_of_overfitting_spare_us.csv\"\n",
    "\n",
    "xgb_params = {\n",
    "    'seed': 0,\n",
    "    'colsample_bytree': 0.8,\n",
    "    'silent': 0,\n",
    "    'subsample': .85,\n",
    "    'eta': 0.0275,\n",
    "    'objective': 'binary:logitraw',\n",
    "    'num_parallel_tree': 7,\n",
    "    'max_depth': 5,\n",
    "    'nthread': 22,\n",
    "    'eval_metric': 'auc',\n",
    "}\n"
   ]
  },
  {
   "cell_type": "code",
   "execution_count": 63,
   "metadata": {
    "collapsed": false
   },
   "outputs": [],
   "source": [
    "def get_data():\n",
    "    global tc_features\n",
    "\n",
    "    train = pd.read_csv(train_file)\n",
    "    test = pd.read_csv(test_file)\n",
    "\n",
    "    y_train = train.OutcomeType\n",
    "\n",
    "    train = train.drop(['AnimalID', 'OutcomeType'], axis=1)\n",
    "    test = test.drop('ID', axis=1)\n",
    "\n",
    "    ntrain = train.shape[0]\n",
    "\n",
    "    train_test = pd.concat((train, test), axis=0)\n",
    "\n",
    "    # modify date info \n",
    "    train_test['Date'] = pd.to_datetime(train_test['DateTime'])\n",
    "\n",
    "    train_test['Year'] = train_test['Date'].dt.year\n",
    "    train_test['Month'] = train_test['Date'].dt.month\n",
    "    train_test['Day'] = train_test['Date'].dt.day\n",
    "    train_test['Weekday'] = train_test['Date'].dt.dayofweek\n",
    "\n",
    "\n",
    "    train_test = train_test.drop(['Date', 'DateTime'], axis=1)\n",
    "    train_test = train_test.fillna(-1)\n",
    "\n",
    "    # modify categoricals columns \n",
    "    categoricals = [x for x in train_test.columns if train_test[x].dtype == 'object']\n",
    "\n",
    "    for c in categoricals:\n",
    "        lbl = preprocessing.LabelEncoder()\n",
    "        lbl.fit(list(train_test[c].values))\n",
    "        train_test[c] = lbl.transform(list(train_test[c].values))\n",
    "\n",
    "    train = train_test.iloc[:ntrain, :].copy().reset_index(drop=True)\n",
    "    test = train_test.iloc[ntrain:, :].copy().reset_index(drop=True)\n",
    "\n",
    "    features = list(train.columns)\n",
    "    features = np.intersect1d(features, top111 + tmp_features)\n",
    "\n",
    "    x_train = train[features].copy()\n",
    "    x_test = test[features].copy()\n",
    "\n",
    "    x_train['NaNCount'] = x_train.apply(lambda x: np.sum(x == -1), axis=1)\n",
    "    x_test['NaNCount'] = x_test.apply(lambda x: np.sum(x == -1), axis=1)\n",
    "\n",
    "    # get interactions columns\n",
    "    for A, B in interactions2way:\n",
    "        feat = \"_\".join([A, B])\n",
    "        x_train[feat] = x_train[A] - x_train[B]\n",
    "        x_test[feat] = x_test[A] - x_test[B]\n",
    "\n",
    "    for A, B, C in interactions3way:\n",
    "        feat = \"_\".join([A, B, C])\n",
    "        tc_features += [feat]\n",
    "        x_train[feat] = x_train[A] - x_train[B] - x_train[C]\n",
    "        x_test[feat] = x_test[A] - x_test[B] - x_test[C]\n",
    "\n",
    "    for A, B, C, D in interactions4way:\n",
    "        feat = \"_\".join([A, B, C, D])\n",
    "        tc_features += [feat]\n",
    "        x_train[feat] = x_train[A] - x_train[B] - x_train[C] - x_train[D]\n",
    "        x_test[feat] = x_test[A] - x_test[B] - x_test[C] - x_test[D]\n",
    "\n",
    "    # drop columns not in top111  and last 25 columns in drop\n",
    "    x_train.drop(tmp_features, axis=1, inplace=True)\n",
    "    x_test.drop(tmp_features, axis=1, inplace=True)\n",
    "\n",
    "    x_train.drop(drop_out[-25:], axis=1, inplace=True)\n",
    "    x_test.drop(drop_out[-25:], axis=1, inplace=True)\n",
    "\n",
    "    return np.array(x_train), np.array(y_train), np.array(x_test)"
   ]
  },
  {
   "cell_type": "code",
   "execution_count": 64,
   "metadata": {
    "collapsed": false
   },
   "outputs": [
    {
     "name": "stdout",
     "output_type": "stream",
     "text": [
      "(260753, 164) (173836, 164)\n"
     ]
    }
   ],
   "source": [
    "x_train, y_train, x_test = get_data()\n",
    "print x_train.shape, x_test.shape\n",
    "\n",
    "x_train_tc = x_train.copy()\n",
    "ntcfeat = len(tc_features)"
   ]
  },
  {
   "cell_type": "code",
   "execution_count": 66,
   "metadata": {
    "collapsed": false
   },
   "outputs": [],
   "source": [
    "# xtrain drop 3/4 way intersection\n",
    "x_train[:, -ntcfeat:] = 0\n",
    "\n",
    "ntrain = x_train.shape[0]\n",
    "best_nrounds = 2500\n",
    "\n",
    "dtrain = xgb.DMatrix(x_train, label=y_train)\n",
    "dtrain_tc = xgb.DMatrix(x_train_tc, label=y_train)"
   ]
  },
  {
   "cell_type": "code",
   "execution_count": 75,
   "metadata": {
    "collapsed": false
   },
   "outputs": [],
   "source": [
    "evallist  = [(dtrain,'train')]"
   ]
  },
  {
   "cell_type": "code",
   "execution_count": 78,
   "metadata": {
    "collapsed": false
   },
   "outputs": [
    {
     "name": "stderr",
     "output_type": "stream",
     "text": [
      "[0]\ttrain-auc:0.937852\n",
      "[1]\ttrain-auc:0.938665\n",
      "[2]\ttrain-auc:0.938199\n",
      "[3]\ttrain-auc:0.938540\n",
      "[4]\ttrain-auc:0.938967\n"
     ]
    }
   ],
   "source": [
    "gbdt = xgb.train(xgb_params, dtrain, 5, evallist, verbose_eval =True)"
   ]
  },
  {
   "cell_type": "code",
   "execution_count": 82,
   "metadata": {
    "collapsed": false
   },
   "outputs": [],
   "source": [
    "import matplotlib.pyplot as plt\n",
    "importance = xgb.plot_importance(gbdt)\n",
    "plt.show()"
   ]
  },
  {
   "cell_type": "code",
   "execution_count": 83,
   "metadata": {
    "collapsed": false
   },
   "outputs": [
    {
     "data": {
      "text/plain": [
       "array([-0.25677505, -0.22170401, -0.22170401, ...,  0.19527936,\n",
       "       -0.25677505, -0.19422986], dtype=float32)"
      ]
     },
     "execution_count": 83,
     "metadata": {},
     "output_type": "execute_result"
    }
   ],
   "source": [
    "gbdt.predict(dtest)"
   ]
  },
  {
   "cell_type": "code",
   "execution_count": 84,
   "metadata": {
    "collapsed": true
   },
   "outputs": [],
   "source": [
    "submission = pd.read_csv(sample_submission)\n",
    "submission.iloc[:, 1] = gbdt.predict(dtest).reshape((-1, 1))\n",
    "submission.to_csv(submission_filename, index=False)"
   ]
  },
  {
   "cell_type": "code",
   "execution_count": null,
   "metadata": {
    "collapsed": true
   },
   "outputs": [],
   "source": []
  }
 ],
 "metadata": {
  "hide_input": false,
  "kernelspec": {
   "display_name": "Python 2",
   "language": "python",
   "name": "python2"
  },
  "language_info": {
   "codemirror_mode": {
    "name": "ipython",
    "version": 2
   },
   "file_extension": ".py",
   "mimetype": "text/x-python",
   "name": "python",
   "nbconvert_exporter": "python",
   "pygments_lexer": "ipython2",
   "version": "2.7.11"
  },
  "toc": {
   "toc_cell": false,
   "toc_number_sections": true,
   "toc_threshold": 6,
   "toc_window_display": false
  }
 },
 "nbformat": 4,
 "nbformat_minor": 0
}
